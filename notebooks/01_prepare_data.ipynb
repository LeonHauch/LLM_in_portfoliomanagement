{
 "cells": [
  {
   "cell_type": "code",
   "execution_count": 17,
   "metadata": {
    "vscode": {
     "languageId": "plaintext"
    }
   },
   "outputs": [
    {
     "name": "stdout",
     "output_type": "stream",
     "text": [
      "['Price', 'Ticker']\n",
      "Price       Adj Close      Close       High        Low       Open   Volume  \\\n",
      "Ticker         BNP.PA     BNP.PA     BNP.PA     BNP.PA     BNP.PA   BNP.PA   \n",
      "Date                                                                         \n",
      "2018-01-02  35.684517  62.090000  62.700001  61.660000  62.680000  2785984   \n",
      "2018-01-03  36.000614  62.639999  63.270000  61.980000  62.320000  3766640   \n",
      "2018-01-04  36.650051  63.770000  64.290001  62.709999  62.709999  4272372   \n",
      "2018-01-05  36.719017  63.889999  64.589996  63.669998  64.139999  3125691   \n",
      "2018-01-08  37.069603  64.500000  64.839996  64.010002  64.290001  3030090   \n",
      "\n",
      "Price       Adj Close      Close       High        Low  ...       High  \\\n",
      "Ticker          ML.PA      ML.PA      ML.PA      ML.PA  ...      SU.PA   \n",
      "Date                                                    ...              \n",
      "2018-01-02  23.039497  30.012501  30.012501  29.350000  ...  71.040001   \n",
      "2018-01-03  23.298582  30.350000  30.400000  29.962500  ...  71.040001   \n",
      "2018-01-04  23.692011  30.862499  31.062500  30.537500  ...  72.459999   \n",
      "2018-01-05  24.171799  31.487499  31.500000  30.862499  ...  73.360001   \n",
      "2018-01-08  24.430887  31.825001  32.099998  31.462500  ...  73.639999   \n",
      "\n",
      "Price             Low       Open   Volume Adj Close     Close      High  \\\n",
      "Ticker          SU.PA      SU.PA    SU.PA    VIV.PA    VIV.PA    VIV.PA   \n",
      "Date                                                                      \n",
      "2018-01-02  69.540001  70.959999  1173030  6.689150  9.033264  9.033264   \n",
      "2018-01-03  69.919998  69.959999  1245073  6.834760  9.229901  9.249966   \n",
      "2018-01-04  71.320000  71.320000  1384025  6.900136  9.318187  9.366343   \n",
      "2018-01-05  72.419998  72.500000  1126714  6.998200  9.450616  9.466668   \n",
      "2018-01-08  72.900002  73.000000  1169355  7.078434  9.558967  9.599097   \n",
      "\n",
      "Price            Low      Open    Volume  \n",
      "Ticker        VIV.PA    VIV.PA    VIV.PA  \n",
      "Date                                      \n",
      "2018-01-02  8.924913  8.948991   8410225  \n",
      "2018-01-03  9.017212  9.037277  11426043  \n",
      "2018-01-04  9.209836  9.278057  10671750  \n",
      "2018-01-05  9.298122  9.322200   9931817  \n",
      "2018-01-08  9.406473  9.438577   9511840  \n",
      "\n",
      "[5 rows x 162 columns]\n"
     ]
    }
   ],
   "source": [
    "import pandas as pd\n",
    "import os\n",
    "\n",
    "# Path where your raw CSV files are saved\n",
    "DATA_FOLDER = '../data/raw'  # Adjust if needed\n",
    "\n",
    "def load_price_data(folder=DATA_FOLDER):\n",
    "    all_dfs = []\n",
    "\n",
    "    for filename in os.listdir(folder):\n",
    "        if filename.endswith(\".csv\"):\n",
    "            ticker = filename.replace(\".csv\", \"\")\n",
    "            path = os.path.join(folder, filename)\n",
    "\n",
    "            # Read with multi-index header\n",
    "            df = pd.read_csv(path, header=[0, 1], index_col=0, parse_dates=True)\n",
    "\n",
    "            # Ensure the second level of columns (ticker) is correctly set\n",
    "            # If for any reason the file has multiple tickers, this preserves it\n",
    "            all_dfs.append(df)\n",
    "\n",
    "    # Combine all tickers into a single dataframe (wide format)\n",
    "    combined = pd.concat(all_dfs, axis=1).sort_index()\n",
    "\n",
    "    return combined\n",
    "\n",
    "# Load the data\n",
    "price_data = load_price_data()\n",
    "\n",
    "# Check structure\n",
    "print(price_data.columns.names)  # ['Price', 'Ticker']\n",
    "print(price_data.head())\n"
   ]
  },
  {
   "cell_type": "code",
   "execution_count": 19,
   "metadata": {},
   "outputs": [],
   "source": [
    "# Create the folder if it doesn't exist\n",
    "os.makedirs('../data/preprocessed', exist_ok=True)\n",
    "\n",
    "# Save the DataFrame as parquet (recommended)\n",
    "price_data.to_parquet('../data/preprocessed/prices.parquet')\n"
   ]
  },
  {
   "cell_type": "code",
   "execution_count": 20,
   "metadata": {},
   "outputs": [],
   "source": [
    "price_data.to_csv('../data/preprocessed/prices.csv')\n"
   ]
  },
  {
   "cell_type": "code",
   "execution_count": null,
   "metadata": {},
   "outputs": [],
   "source": []
  }
 ],
 "metadata": {
  "kernelspec": {
   "display_name": "Python 3 (ipykernel)",
   "language": "python",
   "name": "python3"
  },
  "language_info": {
   "codemirror_mode": {
    "name": "ipython",
    "version": 3
   },
   "file_extension": ".py",
   "mimetype": "text/x-python",
   "name": "python",
   "nbconvert_exporter": "python",
   "pygments_lexer": "ipython3",
   "version": "3.10.18"
  }
 },
 "nbformat": 4,
 "nbformat_minor": 4
}
